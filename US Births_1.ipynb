{
 "cells": [
  {
   "cell_type": "markdown",
   "metadata": {},
   "source": [
    "# U.S. Births\n",
    "\n",
    "The data set used in this investigation is from the Centers for Disease Control and Prevention's National Center for Health Statistics.  The data set has the following structure:\n",
    "\n",
    "* year - Year\n",
    "* month - Month\n",
    "* date_of_month - Day number of the month\n",
    "* day_of_week - Day of week, where 1 is Monday and 7 is Sunday\n",
    "* births - Number of births\n",
    "\n",
    "The aim of this investigation is to count the total number of births which occurred on each day of the week for the time frame covered by the data."
   ]
  },
  {
   "cell_type": "markdown",
   "metadata": {},
   "source": [
    "Open the file in read mode, then read the data into the string variable *data*"
   ]
  },
  {
   "cell_type": "code",
   "execution_count": 40,
   "metadata": {
    "collapsed": false
   },
   "outputs": [],
   "source": [
    "f= open(\"births.csv\", \"r\")\n",
    "data = f.read()"
   ]
  },
  {
   "cell_type": "markdown",
   "metadata": {},
   "source": [
    "Parse *data* using the split method where the newline character is the split point, then save to list *split_data*."
   ]
  },
  {
   "cell_type": "code",
   "execution_count": 41,
   "metadata": {
    "collapsed": false
   },
   "outputs": [],
   "source": [
    "split_data = data.split(\"\\n\")"
   ]
  },
  {
   "cell_type": "markdown",
   "metadata": {},
   "source": [
    "Iterate through the set of strings in *split_data*.  Using the split method convert each string into a list and append to the list *list_lst*, creating a list of lists."
   ]
  },
  {
   "cell_type": "code",
   "execution_count": 42,
   "metadata": {
    "collapsed": false
   },
   "outputs": [],
   "source": [
    "list_lst = []\n",
    "for row in split_data:\n",
    "    list_lst.append(row.split(\",\"))"
   ]
  },
  {
   "cell_type": "markdown",
   "metadata": {},
   "source": [
    "Create new list *list_lst_no_header* comprised of all the data in *list_lst* without the header row."
   ]
  },
  {
   "cell_type": "code",
   "execution_count": 43,
   "metadata": {
    "collapsed": false
   },
   "outputs": [],
   "source": [
    "list_lst_no_header = list_lst[1:len(list_lst)]"
   ]
  },
  {
   "cell_type": "markdown",
   "metadata": {},
   "source": [
    "Iterate through *list_lst_no_header* and extract the day of week and births count for each item.  If the day of week exists in the dictionary *days_counts* add the births count of the current item to the value associated with the day of week.  If it is not already in *days_counts* add the day of week and the corresponding births count."
   ]
  },
  {
   "cell_type": "code",
   "execution_count": 44,
   "metadata": {
    "collapsed": false
   },
   "outputs": [
    {
     "name": "stdout",
     "output_type": "stream",
     "text": [
      "{'2': 6446196, '7': 4079723, '1': 5789166, '6': 4562111, '3': 6322855, '5': 6233657, '4': 6288429}\n"
     ]
    }
   ],
   "source": [
    "days_counts = {}\n",
    "for item in list_lst_no_header: \n",
    "    day_of_week = item[3]\n",
    "    births = int(item[4])\n",
    "    if day_of_week in days_counts:\n",
    "        days_counts[day_of_week] = days_counts[day_of_week] + births\n",
    "    else:\n",
    "        days_counts[day_of_week] = births\n",
    "        \n",
    "print(days_counts)"
   ]
  },
  {
   "cell_type": "code",
   "execution_count": null,
   "metadata": {
    "collapsed": true
   },
   "outputs": [],
   "source": []
  }
 ],
 "metadata": {
  "anaconda-cloud": {},
  "kernelspec": {
   "display_name": "Python 3",
   "language": "python",
   "name": "python3"
  },
  "language_info": {
   "codemirror_mode": {
    "name": "ipython",
    "version": 3
   },
   "file_extension": ".py",
   "mimetype": "text/x-python",
   "name": "python",
   "nbconvert_exporter": "python",
   "pygments_lexer": "ipython3",
   "version": "3.4.3"
  }
 },
 "nbformat": 4,
 "nbformat_minor": 1
}
